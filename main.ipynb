{
 "cells": [
  {
   "cell_type": "code",
   "execution_count": 38,
   "id": "e90e760c-6f21-4b5f-8ac6-a277327f4b3a",
   "metadata": {},
   "outputs": [],
   "source": [
    "import pandas as pd\n",
    "import numpy as np\n",
    "\n",
    "from sklearn.preprocessing import OrdinalEncoder\n",
    "from sklearn.linear_model import LinearRegression\n",
    "from sklearn.model_selection import train_test_split"
   ]
  },
  {
   "cell_type": "markdown",
   "id": "c7ed5d5d-b9a5-42f9-b00b-c34103c06322",
   "metadata": {},
   "source": [
    "# Load Data"
   ]
  },
  {
   "cell_type": "code",
   "execution_count": 28,
   "id": "6bd7809c-3bfa-45e0-a40f-5fafd5e26ab7",
   "metadata": {},
   "outputs": [
    {
     "data": {
      "text/html": [
       "<div>\n",
       "<style scoped>\n",
       "    .dataframe tbody tr th:only-of-type {\n",
       "        vertical-align: middle;\n",
       "    }\n",
       "\n",
       "    .dataframe tbody tr th {\n",
       "        vertical-align: top;\n",
       "    }\n",
       "\n",
       "    .dataframe thead th {\n",
       "        text-align: right;\n",
       "    }\n",
       "</style>\n",
       "<table border=\"1\" class=\"dataframe\">\n",
       "  <thead>\n",
       "    <tr style=\"text-align: right;\">\n",
       "      <th></th>\n",
       "      <th>ID</th>\n",
       "      <th>Price</th>\n",
       "      <th>Levy</th>\n",
       "      <th>Manufacturer</th>\n",
       "      <th>Model</th>\n",
       "      <th>Prod. year</th>\n",
       "      <th>Category</th>\n",
       "      <th>Leather interior</th>\n",
       "      <th>Fuel type</th>\n",
       "      <th>Engine volume</th>\n",
       "      <th>Mileage</th>\n",
       "      <th>Cylinders</th>\n",
       "      <th>Gear box type</th>\n",
       "      <th>Drive wheels</th>\n",
       "      <th>Doors</th>\n",
       "      <th>Wheel</th>\n",
       "      <th>Color</th>\n",
       "      <th>Airbags</th>\n",
       "    </tr>\n",
       "  </thead>\n",
       "  <tbody>\n",
       "    <tr>\n",
       "      <th>0</th>\n",
       "      <td>45654403</td>\n",
       "      <td>13328</td>\n",
       "      <td>1399</td>\n",
       "      <td>LEXUS</td>\n",
       "      <td>RX 450</td>\n",
       "      <td>2010</td>\n",
       "      <td>Jeep</td>\n",
       "      <td>Yes</td>\n",
       "      <td>Hybrid</td>\n",
       "      <td>3.5</td>\n",
       "      <td>186005 km</td>\n",
       "      <td>6.0</td>\n",
       "      <td>Automatic</td>\n",
       "      <td>4x4</td>\n",
       "      <td>04-May</td>\n",
       "      <td>Left wheel</td>\n",
       "      <td>Silver</td>\n",
       "      <td>12</td>\n",
       "    </tr>\n",
       "    <tr>\n",
       "      <th>1</th>\n",
       "      <td>44731507</td>\n",
       "      <td>16621</td>\n",
       "      <td>1018</td>\n",
       "      <td>CHEVROLET</td>\n",
       "      <td>Equinox</td>\n",
       "      <td>2011</td>\n",
       "      <td>Jeep</td>\n",
       "      <td>No</td>\n",
       "      <td>Petrol</td>\n",
       "      <td>3</td>\n",
       "      <td>192000 km</td>\n",
       "      <td>6.0</td>\n",
       "      <td>Tiptronic</td>\n",
       "      <td>4x4</td>\n",
       "      <td>04-May</td>\n",
       "      <td>Left wheel</td>\n",
       "      <td>Black</td>\n",
       "      <td>8</td>\n",
       "    </tr>\n",
       "  </tbody>\n",
       "</table>\n",
       "</div>"
      ],
      "text/plain": [
       "         ID  Price  Levy Manufacturer    Model  Prod. year Category  \\\n",
       "0  45654403  13328  1399        LEXUS   RX 450        2010     Jeep   \n",
       "1  44731507  16621  1018    CHEVROLET  Equinox        2011     Jeep   \n",
       "\n",
       "  Leather interior Fuel type Engine volume    Mileage  Cylinders  \\\n",
       "0              Yes    Hybrid           3.5  186005 km        6.0   \n",
       "1               No    Petrol             3  192000 km        6.0   \n",
       "\n",
       "  Gear box type Drive wheels   Doors       Wheel   Color  Airbags  \n",
       "0     Automatic          4x4  04-May  Left wheel  Silver       12  \n",
       "1     Tiptronic          4x4  04-May  Left wheel   Black        8  "
      ]
     },
     "execution_count": 28,
     "metadata": {},
     "output_type": "execute_result"
    }
   ],
   "source": [
    "dataset = pd.read_csv(\"car_price_prediction.csv\")\n",
    "dataset.head(2)"
   ]
  },
  {
   "cell_type": "markdown",
   "id": "6eb87396-d913-4cdd-b2ca-eff5c26ee65c",
   "metadata": {},
   "source": [
    "# EDA"
   ]
  },
  {
   "cell_type": "markdown",
   "id": "3b37d8aa-c015-4b36-a340-573d9d455ba7",
   "metadata": {},
   "source": [
    "# Preprocessing"
   ]
  },
  {
   "cell_type": "code",
   "execution_count": 31,
   "id": "b96f0560-bd70-4fe7-b7ab-0bc0088b9f5a",
   "metadata": {},
   "outputs": [],
   "source": [
    "df = dataset.copy()\n",
    "df[\"Leather interior\"] = df[\"Leather interior\"].map({\"Yes\": True, \"No\": False})\n",
    "df[\"Age\"] = 2022 - df[\"Prod. year\"]"
   ]
  },
  {
   "cell_type": "code",
   "execution_count": 34,
   "id": "06a90421-0863-4755-b113-1bf3c7d88d0d",
   "metadata": {},
   "outputs": [],
   "source": [
    "encoder = OrdinalEncoder()\n",
    "df[\"Cylinders\"] = encoder.fit_transform(df[[\"Cylinders\"]])"
   ]
  },
  {
   "cell_type": "code",
   "execution_count": 35,
   "id": "c49ef172-aaed-4270-8d79-36ae866daec6",
   "metadata": {},
   "outputs": [],
   "source": [
    "make_ohe = pd.get_dummies(dataset[\"Manufacturer\"], prefix=\"make\")\n",
    "model_ohe = pd.get_dummies(dataset[\"Model\"], prefix=\"model\")\n",
    "category_ohe = pd.get_dummies(dataset[\"Category\"], prefix=\"category\")\n",
    "fuel_ohe = pd.get_dummies(dataset[\"Fuel type\"], prefix=\"fuel\") \n",
    "gear_ohe = pd.get_dummies(dataset[\"Gear box type\"], prefix=\"gear_box\")\n",
    "drive_ohe = pd.get_dummies(dataset[\"Drive wheels\"], prefix=\"drive_wheels\")\n",
    "door_ohe = pd.get_dummies(dataset[\"Doors\"], prefix=\"doors\")\n",
    "wheel_ohe = pd.get_dummies(dataset[\"Wheel\"], prefix=\"wheel\")\n",
    "color_ohe = pd.get_dummies(dataset[\"Color\"], prefix=\"color\")"
   ]
  },
  {
   "cell_type": "code",
   "execution_count": 39,
   "id": "ca1ea1e9-fd70-4f7f-8ae3-012fc9fb108f",
   "metadata": {},
   "outputs": [],
   "source": [
    "X = pd.concat(\n",
    "    [df[[\"Leather interior\", \"Age\", \"Cylinders\"]], make_ohe, model_ohe, category_ohe,\n",
    "    fuel_ohe, gear_ohe, drive_ohe, door_ohe, wheel_ohe, color_ohe], \n",
    "    axis = 1\n",
    ")\n",
    "y = df[[\"Price\"]]"
   ]
  },
  {
   "cell_type": "markdown",
   "id": "4a0aa4a2-97e5-4de8-adc2-2e695005e934",
   "metadata": {},
   "source": [
    "# Linear Regression"
   ]
  },
  {
   "cell_type": "code",
   "execution_count": 44,
   "id": "37095da1-9d13-4457-a172-5543d0960159",
   "metadata": {},
   "outputs": [],
   "source": [
    "X_train, X_test, y_train, y_test = train_test_split(X, y, test_size=0.3, random_state=1)"
   ]
  },
  {
   "cell_type": "code",
   "execution_count": 45,
   "id": "67810eea-e3ae-421a-8e4d-85a4ec5fcb53",
   "metadata": {},
   "outputs": [],
   "source": [
    "linreg = LinearRegression().fit(X_train, y_train)"
   ]
  },
  {
   "cell_type": "code",
   "execution_count": 52,
   "id": "414c3913-c774-4f7f-99b6-e960c3bfebf9",
   "metadata": {},
   "outputs": [],
   "source": [
    "pred_train = linreg.predict(X_train)\n",
    "pred_test = linreg.predict(X_test)"
   ]
  },
  {
   "cell_type": "code",
   "execution_count": 46,
   "id": "a7a8a108-b5b3-4f40-835c-410452b6c07d",
   "metadata": {},
   "outputs": [
    {
     "data": {
      "text/plain": [
       "0.04344696501120204"
      ]
     },
     "execution_count": 46,
     "metadata": {},
     "output_type": "execute_result"
    }
   ],
   "source": [
    "linreg.score(X_train, y_train)"
   ]
  },
  {
   "cell_type": "code",
   "execution_count": 51,
   "id": "91b12476-2aa5-4bdc-8331-fe3cbb8f2e01",
   "metadata": {},
   "outputs": [
    {
     "data": {
      "text/plain": [
       "-4.235859090805766e+20"
      ]
     },
     "execution_count": 51,
     "metadata": {},
     "output_type": "execute_result"
    }
   ],
   "source": [
    "linreg.score(X_test, y_test)"
   ]
  },
  {
   "cell_type": "code",
   "execution_count": 56,
   "id": "574ff186-f713-4527-9ef8-f360ddbdc0fd",
   "metadata": {},
   "outputs": [
    {
     "data": {
      "text/plain": [
       "array([[  5808.],\n",
       "       [ 33112.],\n",
       "       [ 25824.],\n",
       "       [ 16880.],\n",
       "       [-20696.],\n",
       "       [ -6480.],\n",
       "       [ 16120.],\n",
       "       [ 22400.],\n",
       "       [ 12048.],\n",
       "       [ 29112.],\n",
       "       [  9736.],\n",
       "       [ 10760.],\n",
       "       [ 36744.],\n",
       "       [ 14808.],\n",
       "       [  5944.],\n",
       "       [ 39552.],\n",
       "       [ 10176.],\n",
       "       [ 11016.],\n",
       "       [ 22632.],\n",
       "       [  -176.],\n",
       "       [-14720.],\n",
       "       [ 38096.],\n",
       "       [ 16920.],\n",
       "       [ 62232.],\n",
       "       [ 12192.],\n",
       "       [  2680.],\n",
       "       [ 24344.],\n",
       "       [  7144.],\n",
       "       [  9632.],\n",
       "       [  -184.]])"
      ]
     },
     "execution_count": 56,
     "metadata": {},
     "output_type": "execute_result"
    }
   ],
   "source": [
    "pred_test[:30]"
   ]
  },
  {
   "cell_type": "code",
   "execution_count": null,
   "id": "b6248442-77e8-49bd-b77a-deb84df8d47f",
   "metadata": {},
   "outputs": [],
   "source": []
  }
 ],
 "metadata": {
  "kernelspec": {
   "display_name": "Python 3 (ipykernel)",
   "language": "python",
   "name": "python3"
  },
  "language_info": {
   "codemirror_mode": {
    "name": "ipython",
    "version": 3
   },
   "file_extension": ".py",
   "mimetype": "text/x-python",
   "name": "python",
   "nbconvert_exporter": "python",
   "pygments_lexer": "ipython3",
   "version": "3.9.12"
  }
 },
 "nbformat": 4,
 "nbformat_minor": 5
}
